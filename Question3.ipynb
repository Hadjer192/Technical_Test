{
 "cells": [
  {
   "cell_type": "code",
   "execution_count": 2,
   "id": "ef986851",
   "metadata": {},
   "outputs": [
    {
     "data": {
      "text/plain": [
       "(1, -2)"
      ]
     },
     "execution_count": 2,
     "metadata": {},
     "output_type": "execute_result"
    }
   ],
   "source": [
    "def move_robot(instructions):\n",
    "    x = 0\n",
    "    y = 0\n",
    "    for instr in instructions:\n",
    "        if instr == 'BEGIN':\n",
    "            continue\n",
    "        elif instr == 'STOP':\n",
    "            return (x, y)\n",
    "        command = instr.split(' ')\n",
    "        m = command[0]\n",
    "        p = int(command[1])\n",
    "        if m == 'UP':\n",
    "            y += p\n",
    "        elif m == 'DOWN':\n",
    "            y -= p\n",
    "        elif m == 'LEFT':\n",
    "            x -= p\n",
    "        elif m == 'RIGHT':\n",
    "            x += p\n",
    "        else:\n",
    "            raise Exception(f\"{m} Instruction not supported\")\n",
    "\n",
    "#Example\n",
    "instructions = [\n",
    "    'BEGIN',\n",
    "    'LEFT 3',\n",
    "    'UP 5',\n",
    "    'RIGHT 4',\n",
    "    'DOWN 7',\n",
    "    'STOP',\n",
    "    ]\n",
    "\n",
    "response = move_robot(instructions)\n",
    "response"
   ]
  }
 ],
 "metadata": {
  "kernelspec": {
   "display_name": "Python 3 (ipykernel)",
   "language": "python",
   "name": "python3"
  },
  "language_info": {
   "codemirror_mode": {
    "name": "ipython",
    "version": 3
   },
   "file_extension": ".py",
   "mimetype": "text/x-python",
   "name": "python",
   "nbconvert_exporter": "python",
   "pygments_lexer": "ipython3",
   "version": "3.9.13"
  }
 },
 "nbformat": 4,
 "nbformat_minor": 5
}
